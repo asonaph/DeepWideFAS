{
  "cells": [
    {
      "cell_type": "code",
      "execution_count": null,
      "metadata": {
        "colab": {
          "base_uri": "https://localhost:8080/"
        },
        "id": "EQy2g7q7Zsdu",
        "outputId": "f216b55e-f36e-46f9-80f3-807e05288e22"
      },
      "outputs": [
        {
          "output_type": "stream",
          "name": "stdout",
          "text": [
            "Tensorflow version 2.8.0\n"
          ]
        }
      ],
      "source": [
        "import math, re, os\n",
        "import tensorflow as tf\n",
        "import numpy as np\n",
        "from matplotlib import pyplot as plt\n",
        "from sklearn.metrics import f1_score, precision_score, recall_score, confusion_matrix\n",
        "print(\"Tensorflow version \" + tf.__version__)"
      ]
    },
    {
      "cell_type": "markdown",
      "metadata": {
        "id": "dMCM8q4dZsdy"
      },
      "source": [
        "# Configurations"
      ]
    },
    {
      "cell_type": "code",
      "execution_count": null,
      "metadata": {
        "id": "o5msKT7YZsdz"
      },
      "outputs": [],
      "source": [
        "AUTO = tf.data.experimental.AUTOTUNE\n",
        "# Create strategy from tpu\n",
        "tpu = tf.distribute.cluster_resolver.TPUClusterResolver()\n",
        "tf.config.experimental_connect_to_cluster(tpu)\n",
        "tf.tpu.experimental.initialize_tpu_system(tpu)\n",
        "strategy = tf.distribute.experimental.TPUStrategy(tpu)\n",
        "# Configuration\n",
        "IMAGE_SIZE = [256, 256]\n",
        "EPOCHS = 60\n",
        "BATCH_SIZE = 64 * strategy.num_replicas_in_sync"
      ]
    },
    {
      "cell_type": "code",
      "execution_count": null,
      "metadata": {
        "id": "XfTA3hhvaPcN"
      },
      "outputs": [],
      "source": [
        "from google.colab import auth\n",
        "auth.authenticate_user()"
      ]
    },
    {
      "cell_type": "code",
      "execution_count": null,
      "metadata": {
        "id": "dSKdJY5EL3Jh"
      },
      "outputs": [],
      "source": [
        "# !gsutil ls gs://thesis_ngoanpv/256x256/"
      ]
    },
    {
      "cell_type": "code",
      "execution_count": null,
      "metadata": {
        "id": "NsJJ42ZZZsd3"
      },
      "outputs": [],
      "source": [
        "GCS_PATH = 'gs:/'\n",
        "TRAINING_FILENAMES = tf.io.gfile.glob('gs://train_fasd*.tfrec') \n",
        "TEST_FILENAMES = tf.io.gfile.glob('gs://test_fasd*.tfrec') "
      ]
    },
    {
      "cell_type": "markdown",
      "metadata": {
        "id": "Yy-n63gMZsd7"
      },
      "source": [
        "Unhide to see `CLASSES`:"
      ]
    },
    {
      "cell_type": "code",
      "execution_count": null,
      "metadata": {
        "colab": {
          "base_uri": "https://localhost:8080/"
        },
        "id": "Lc6kLQC0eIYF",
        "outputId": "dd653d86-fc05-446d-801c-3e1b94143539"
      },
      "outputs": [
        {
          "output_type": "execute_result",
          "data": {
            "text/plain": [
              "128"
            ]
          },
          "metadata": {},
          "execution_count": 6
        }
      ],
      "source": [
        "len(TRAINING_FILENAMES)"
      ]
    },
    {
      "cell_type": "code",
      "execution_count": null,
      "metadata": {
        "id": "QrMixHe7Zsd8"
      },
      "outputs": [],
      "source": [
        "CLASSES = [b'0', b'1']                                                                                                                                        # 100 - 102z"
      ]
    },
    {
      "cell_type": "markdown",
      "metadata": {
        "id": "ZM0w2dVaZseF"
      },
      "source": [
        "## Datasets Functions"
      ]
    },
    {
      "cell_type": "code",
      "execution_count": null,
      "metadata": {
        "id": "UOFYeU_ZZseG"
      },
      "outputs": [],
      "source": [
        "def decode_image(image_data):\n",
        "    image = tf.image.decode_jpeg(image_data, channels=3)\n",
        "    image = tf.cast(image, tf.float32) / 255.0  # convert image to floats in [0, 1] range\n",
        "    image = tf.reshape(image, [*IMAGE_SIZE, 3]) # explicit size needed for TPU\n",
        "    return image\n",
        "#dict_keys(['lbp83', 'lbp86', 'lbp82', 'lpq', 'rbg', 'hsv', 'lbp85', 'lbp81', 'lbp84', 'label'])\n",
        "\n",
        "def read_labeled_tfrecord(example):\n",
        "    features = {\n",
        "        'rbg': tf.io.FixedLenFeature([], tf.string),  # tf.string = bytestring (not text string)\n",
        "        'lbp81': tf.io.FixedLenSequenceFeature([], tf.float32,allow_missing=True),  # tf.string = bytestring (not text string)\n",
        "        'lbp82': tf.io.FixedLenSequenceFeature([], tf.float32,allow_missing=True),  # tf.string = bytestring (not text string)\n",
        "        'lbp83': tf.io.FixedLenSequenceFeature([], tf.float32,allow_missing=True),  # tf.string = bytestring (not text string)\n",
        "        'lbp84': tf.io.FixedLenSequenceFeature([], tf.float32,allow_missing=True),  # tf.string = bytestring (not text string)\n",
        "        'lbp85': tf.io.FixedLenSequenceFeature([], tf.float32,allow_missing=True),  # tf.string = bytestring (not text string)\n",
        "        'lbp86': tf.io.FixedLenSequenceFeature([], tf.float32,allow_missing=True),  # tf.string = bytestring (not text string)\n",
        "        'lpq': tf.io.FixedLenSequenceFeature([], tf.float32,allow_missing=True),  # tf.string = bytestring (not text string)\n",
        "        'hsv': tf.io.FixedLenFeature([], tf.string),  # tf.string = bytestring (not text string)\n",
        "        'label':         tf.io.FixedLenFeature([], tf.int64),  # one bytestring\n",
        "    }\n",
        "    # decode the TFRecord\n",
        "    example = tf.io.parse_single_example(example, features)\n",
        "    lbp81 = example['lbp81']\n",
        "    # FixedLenFeature fields are now ready to use: exmple['size']\n",
        "    # VarLenFeature fields require additional sparse_to_dense decoding\n",
        "    \n",
        "    image = tf.image.decode_jpeg(example['rbg'], channels=3)\n",
        "    image = tf.reshape(image, [IMAGE_SIZE[0],IMAGE_SIZE[0],3])\n",
        "    lbp81 = tf.reshape(lbp81, [256,])\n",
        "    label = tf.cast(example['label'], tf.int32)\n",
        "    return (image, lbp81), label\n",
        "  \n",
        "def read_unlabeled_tfrecord(example):\n",
        "    features = {\n",
        "        'rbg': tf.io.FixedLenFeature([], tf.string),  # tf.string = bytestring (not text string)\n",
        "        'lbp81': tf.io.FixedLenSequenceFeature([], tf.float32,allow_missing=True),  # tf.string = bytestring (not text string)\n",
        "        'lbp82': tf.io.FixedLenSequenceFeature([], tf.float32,allow_missing=True),  # tf.string = bytestring (not text string)\n",
        "        'lbp83': tf.io.FixedLenSequenceFeature([], tf.float32,allow_missing=True),  # tf.string = bytestring (not text string)\n",
        "        'lbp84': tf.io.FixedLenSequenceFeature([], tf.float32,allow_missing=True),  # tf.string = bytestring (not text string)\n",
        "        'lbp85': tf.io.FixedLenSequenceFeature([], tf.float32,allow_missing=True),  # tf.string = bytestring (not text string)\n",
        "        'lbp86': tf.io.FixedLenSequenceFeature([], tf.float32,allow_missing=True),  # tf.string = bytestring (not text string)\n",
        "        'lpq': tf.io.FixedLenSequenceFeature([], tf.float32,allow_missing=True),  # tf.string = bytestring (not text string)\n",
        "        'hsv': tf.io.FixedLenFeature([], tf.string),  # tf.string = bytestring (not text string)\n",
        "        'label':         tf.io.FixedLenFeature([], tf.int64),  # one bytestring\n",
        "    }\n",
        "    example = tf.io.parse_single_example(example, features)\n",
        "    \n",
        "    # FixedLenFeature fields are now ready to use: exmple['size']\n",
        "    # VarLenFeature fields require additional sparse_to_dense decoding    \n",
        "    image = tf.image.decode_jpeg(example['rbg'], channels=3)\n",
        "    # image = tf.reshape(image, [*IMAGE_SIZE, 3])\n",
        "    label = tf.cast(example['label'], tf.int32)\n",
        "\n",
        "    return image, -1\n",
        "\n",
        "def load_dataset(filenames, labeled=True, ordered=True):\n",
        "    # Read from TFRecords. For optimal performance, reading from multiple files at once and\n",
        "    # disregarding data order. Order does not matter since we will be shuffling the data anyway.\n",
        "\n",
        "    ignore_order = tf.data.Options()\n",
        "    if not ordered:\n",
        "        ignore_order.experimental_deterministic = False # disable order, increase speed\n",
        "\n",
        "    dataset = tf.data.TFRecordDataset(filenames, num_parallel_reads=AUTO) # automatically interleaves reads from multiple files\n",
        "    # dataset = dataset.with_options(ignore_order) # uses data as soon as it streams in, rather than in its original order\n",
        "    dataset = dataset.map(read_labeled_tfrecord, num_parallel_calls=AUTO)\n",
        "    # returns a dataset of (image, label) pairs if labeled=True or (image, id) pairs if labeled=False\n",
        "    return dataset\n",
        "\n",
        "# def data_augment(image, label, seed=2020):\n",
        "#     # data augmentation. Thanks to the dataset.prefetch(AUTO) statement in the next function (below),\n",
        "#     # this happens essentially for free on TPU. Data pipeline code is executed on the \"CPU\" part\n",
        "#     # of the TPU while the TPU itself is computing gradients.\n",
        "#     image = tf.image.random_flip_left_right(image, seed=seed)\n",
        "#     return image, label   \n",
        "\n",
        "def get_training_dataset():\n",
        "    dataset = load_dataset(TRAINING_FILENAMES, labeled=True)\n",
        "    # dataset = dataset.map(data_augment, num_parallel_calls=AUTO)\n",
        "    dataset = dataset.shuffle(2048)\n",
        "    dataset = dataset.repeat() # the training dataset must repeat for several epochs\n",
        "    dataset = dataset.batch(BATCH_SIZE)\n",
        "    dataset = dataset.prefetch(AUTO) # prefetch next batch while training (autotune prefetch buffer size)\n",
        "    return dataset\n",
        "\n",
        "def get_validation_dataset(ordered=True):\n",
        "    dataset = load_dataset(TEST_FILENAMES, labeled=True, ordered=ordered)\n",
        "    dataset = dataset.batch(BATCH_SIZE)\n",
        "    dataset = dataset.cache()\n",
        "    dataset = dataset.prefetch(AUTO) # prefetch next batch while training (autotune prefetch buffer size)\n",
        "    return dataset\n",
        "\n",
        "def get_train_valid_datasets():\n",
        "    dataset = load_dataset(TRAINING_FILENAMES + VALIDATION_FILENAMES, labeled=True)\n",
        "    dataset = dataset.map(data_augment, num_parallel_calls=AUTO)\n",
        "    dataset = dataset.repeat() # the training dataset must repeat for several epochs\n",
        "    dataset = dataset.shuffle(2048)\n",
        "    dataset = dataset.batch(BATCH_SIZE)\n",
        "    dataset = dataset.prefetch(AUTO) # prefetch next batch while training (autotune prefetch buffer size)\n",
        "    return dataset\n",
        "\n",
        "def get_test_dataset(ordered=False):\n",
        "    dataset = load_dataset(TEST_FILENAMES, labeled=False, ordered=ordered)\n",
        "    dataset = dataset.batch(BATCH_SIZE)\n",
        "    dataset = dataset.prefetch(AUTO) # prefetch next batch while training (autotune prefetch buffer size)\n",
        "    return dataset\n",
        "\n",
        "def count_data_items(filenames):\n",
        "    # the number of data items is written in the name of the .tfrec files, i.e. flowers00-230.tfrec = 230 data items\n",
        "    n = [int(re.compile(r\"-([0-9]*)\\.\").search(filename).group(1)) for filename in filenames]\n",
        "    return np.sum(n)"
      ]
    },
    {
      "cell_type": "code",
      "source": [
        "def read_only_label(example):\n",
        "    features = {\n",
        "        'label': tf.io.FixedLenFeature([], tf.int64),  # one bytestring\n",
        "    }\n",
        "    # decode the TFRecord\n",
        "    example = tf.io.parse_single_example(example, features)\n",
        "    # FixedLenFeature fields are now ready to use: exmple['size']\n",
        "    # VarLenFeature fields require additional sparse_to_dense decoding\n",
        "    \n",
        "    label = tf.cast(example['label'], tf.int32)\n",
        "    # print(label)\n",
        "    # label = label.numpy()\n",
        "    return label\n",
        "def m(a):\n",
        "  return a.numpy() \n",
        "\n",
        "def load_label_val(filenames, labeled=True, ordered=True):\n",
        "    # Read from TFRecords. For optimal performance, reading from multiple files at once and\n",
        "    # disregarding data order. Order does not matter since we will be shuffling the data anyway.\n",
        "\n",
        "    ignore_order = tf.data.Options()\n",
        "    if not ordered:\n",
        "        ignore_order.experimental_deterministic = False # disable order, increase speed\n",
        "\n",
        "    dataset = tf.data.TFRecordDataset(filenames, num_parallel_reads=AUTO) # automatically interleaves reads from multiple files\n",
        "    # dataset = dataset.with_options(ignore_order) # uses data as soon as it streams in, rather than in its original order\n",
        "    dataset = dataset.map(read_only_label, num_parallel_calls=AUTO)\n",
        "    # dataset = dataset.map(m, num_parallel_calls=AUTO)\n",
        "\n",
        "    # returns a dataset of (image, label) pairs if labeled=True or (image, id) pairs if labeled=False\n",
        "    return dataset"
      ],
      "metadata": {
        "id": "BaNkJSAX9wiJ"
      },
      "execution_count": null,
      "outputs": []
    },
    {
      "cell_type": "code",
      "source": [
        "label_val = load_label_val(TEST_FILENAMES)"
      ],
      "metadata": {
        "id": "LT4XSyF4-EAb"
      },
      "execution_count": null,
      "outputs": []
    },
    {
      "cell_type": "code",
      "source": [
        "label_val_list = list(label_val)"
      ],
      "metadata": {
        "id": "z6SNV7bL-I02"
      },
      "execution_count": null,
      "outputs": []
    },
    {
      "cell_type": "code",
      "source": [
        "len(label_val_list)"
      ],
      "metadata": {
        "colab": {
          "base_uri": "https://localhost:8080/"
        },
        "id": "0qDz6uwU-PIw",
        "outputId": "e5dfb05f-ba0b-449a-eb0c-9b466b4bc5ec"
      },
      "execution_count": null,
      "outputs": [
        {
          "output_type": "execute_result",
          "data": {
            "text/plain": [
              "65790"
            ]
          },
          "metadata": {},
          "execution_count": 53
        }
      ]
    },
    {
      "cell_type": "code",
      "source": [
        "label_val_list = [a.numpy() for a in label_val_list]"
      ],
      "metadata": {
        "id": "QSQDhYFQyMHz"
      },
      "execution_count": null,
      "outputs": []
    },
    {
      "cell_type": "markdown",
      "metadata": {
        "id": "efrZbLobZseS"
      },
      "source": [
        "# Training Model"
      ]
    },
    {
      "cell_type": "code",
      "execution_count": null,
      "metadata": {
        "colab": {
          "base_uri": "https://localhost:8080/"
        },
        "id": "nuPxXjaRZseT",
        "outputId": "84add34d-bba1-4ca9-cebc-2e7168f334b5"
      },
      "outputs": [
        {
          "output_type": "stream",
          "name": "stdout",
          "text": [
            "Dataset: 45085 training images, 65790 unlabeled test images\n"
          ]
        }
      ],
      "source": [
        "NUM_TRAINING_IMAGES = count_data_items(TRAINING_FILENAMES)\n",
        "NUM_TEST_IMAGES = count_data_items(TEST_FILENAMES)\n",
        "STEPS_PER_EPOCH = NUM_TRAINING_IMAGES // BATCH_SIZE\n",
        "print('Dataset: {} training images, {} unlabeled test images'.format(NUM_TRAINING_IMAGES, NUM_TEST_IMAGES))"
      ]
    },
    {
      "cell_type": "code",
      "execution_count": null,
      "metadata": {
        "id": "hEf9VIUfIWE5"
      },
      "outputs": [],
      "source": [
        "from PIL import Image"
      ]
    },
    {
      "cell_type": "code",
      "execution_count": null,
      "metadata": {
        "id": "4w5uooHbIjwD"
      },
      "outputs": [],
      "source": [
        "def display_9_images_from_dataset(dataset):\n",
        "    plt.figure(figsize=(13,13))\n",
        "    subplot=331\n",
        "    for i, (image, label) in enumerate(dataset):\n",
        "        plt.subplot(subplot)\n",
        "        plt.axis('off')\n",
        "        plt.imshow(image.numpy().astype(np.uint8))\n",
        "        plt.title(label.numpy(), fontsize=16)\n",
        "        subplot += 1\n",
        "        if i==8:\n",
        "            break\n",
        "    plt.tight_layout()\n",
        "    plt.subplots_adjust(wspace=0.1, hspace=0.1)\n",
        "    plt.show()"
      ]
    },
    {
      "cell_type": "code",
      "source": [
        "def read_labeled_tfrecord_example(example):\n",
        "    features = {\n",
        "        'rbg': tf.io.FixedLenFeature([], tf.string),  # tf.string = bytestring\n",
        "        'hsv': tf.io.FixedLenFeature([], tf.string),  # tf.string = bytestring (not text string)\n",
        "        'label': tf.io.FixedLenFeature([], tf.int64),  # one bytestring\n",
        "    }\n",
        "    # decode the TFRecord\n",
        "    example = tf.io.parse_single_example(example, features)\n",
        "    # FixedLenFeature fields are now ready to use: exmple['size']\n",
        "    # VarLenFeature fields require additional sparse_to_dense decoding\n",
        "    \n",
        "    lbp83 = example['hsv']\n",
        "    image = tf.image.decode_jpeg(example['rbg'], channels=3)\n",
        "    image = tf.reshape(image, [IMAGE_SIZE[0],IMAGE_SIZE[0],3])\n",
        "    label = tf.cast(example['label'], tf.int32)\n",
        "    return image, lbp83, label\n",
        "\n",
        "def load_dataset_example(filenames, labeled=True, ordered=False):\n",
        "    ignore_order = tf.data.Options()\n",
        "    if not ordered:\n",
        "        ignore_order.experimental_deterministic = False # disable order, increase speed\n",
        "\n",
        "    dataset = tf.data.TFRecordDataset(filenames, num_parallel_reads=AUTO) # automatically interleaves reads from multiple files\n",
        "    dataset = dataset.with_options(ignore_order) # uses data as soon as it streams in, rather than in its original order\n",
        "    dataset = dataset.map(read_labeled_tfrecord_example, num_parallel_calls=AUTO)\n",
        "    # returns a dataset of (image, label) pairs if labeled=True or (image, id) pairs if labeled=False\n",
        "    return dataset\n",
        "\n",
        "def get_training_dataset_example():\n",
        "    dataset = load_dataset_example(TRAINING_FILENAMES, labeled=True)\n",
        "    # dataset = dataset.map(data_augment, num_parallel_calls=AUTO)\n",
        "    dataset = dataset.shuffle(2048)\n",
        "    dataset = dataset.repeat() # the training dataset must repeat for several epochs\n",
        "    dataset = dataset.batch(BATCH_SIZE)\n",
        "    dataset = dataset.prefetch(AUTO) # prefetch next batch while training (autotune prefetch buffer size)\n",
        "    return dataset"
      ],
      "metadata": {
        "id": "dj0MI_M0DoEK"
      },
      "execution_count": null,
      "outputs": []
    },
    {
      "cell_type": "code",
      "execution_count": null,
      "metadata": {
        "id": "QVlJpo6h7Z9u"
      },
      "outputs": [],
      "source": [
        "data_train = get_training_dataset()"
      ]
    },
    {
      "cell_type": "code",
      "source": [
        "data_train"
      ],
      "metadata": {
        "colab": {
          "base_uri": "https://localhost:8080/"
        },
        "id": "-qJioVGOmS5y",
        "outputId": "3775699b-5364-48a8-c831-1a47f168ff6c"
      },
      "execution_count": null,
      "outputs": [
        {
          "output_type": "execute_result",
          "data": {
            "text/plain": [
              "<PrefetchDataset element_spec=((TensorSpec(shape=(None, 256, 256, 3), dtype=tf.uint8, name=None), TensorSpec(shape=(None, 256), dtype=tf.float32, name=None)), TensorSpec(shape=(None,), dtype=tf.int32, name=None))>"
            ]
          },
          "metadata": {},
          "execution_count": 18
        }
      ]
    },
    {
      "cell_type": "code",
      "source": [
        "image_sample, label_sample = None, None\n",
        "for i, ((image_sample, lbp81),label_sample) in enumerate(data_train):\n",
        "  image_sample, lbp81, label_sample = image_sample,lbp81,label_sample\n",
        "  break"
      ],
      "metadata": {
        "id": "Fh-hxrq9DELh"
      },
      "execution_count": null,
      "outputs": []
    },
    {
      "cell_type": "code",
      "source": [
        "import tensorflow as tf \n",
        "import json\n",
        "from google.protobuf.json_format import MessageToJson\n",
        "raw_dataset = tf.data.TFRecordDataset('gs://thesis_ngoanpv/256x256/train_siw_00-943.tfrec')\n",
        "\n",
        "m = None\n",
        "for raw_record in raw_dataset.take(1):\n",
        "    example = tf.train.Example()\n",
        "    example.ParseFromString(raw_record.numpy())\n",
        "    m = json.loads(MessageToJson(example))\n",
        "    print(m['features']['feature'].keys())\n",
        "    break"
      ],
      "metadata": {
        "colab": {
          "base_uri": "https://localhost:8080/"
        },
        "id": "C2WQhjtdAJty",
        "outputId": "c517310b-c027-44f9-8ff3-ad70deabb96a"
      },
      "execution_count": null,
      "outputs": [
        {
          "output_type": "stream",
          "name": "stdout",
          "text": [
            "dict_keys(['lbp84', 'lbp82', 'rbg', 'label', 'lpq', 'lbp85', 'hsv', 'lbp81', 'lbp86', 'lbp83'])\n"
          ]
        }
      ]
    },
    {
      "cell_type": "code",
      "execution_count": null,
      "metadata": {
        "colab": {
          "base_uri": "https://localhost:8080/",
          "height": 273
        },
        "id": "LEF8PdQ7eLWY",
        "outputId": "4937d560-b81e-47c8-cd30-69c771366a92"
      },
      "outputs": [
        {
          "output_type": "execute_result",
          "data": {
            "text/plain": [
              "<PIL.Image.Image image mode=RGB size=256x256 at 0x7F62AE2D6DD0>"
            ],
            "image/png": "[encoded data removed]"
          },
          "metadata": {},
          "execution_count": 21
        }
      ],
      "source": [
        "from PIL import Image\n",
        "Image.fromarray(image_sample.numpy()[10,:,:], 'RGB')"
      ]
    },
    {
      "cell_type": "markdown",
      "metadata": {
        "id": "fDB86wnEZseX"
      },
      "source": [
        "## Load Model into TPU"
      ]
    },
    {
      "cell_type": "markdown",
      "metadata": {
        "id": "BRxn22i2Zsea"
      },
      "source": [
        "## Training"
      ]
    },
    {
      "cell_type": "code",
      "execution_count": null,
      "metadata": {
        "id": "Z9Tm70Ya1aQu"
      },
      "outputs": [],
      "source": [
        "from tensorflow.keras.layers.experimental import preprocessing\n",
        "from tensorflow.keras.models import Sequential\n",
        "from tensorflow.keras import layers\n",
        "\n",
        "img_augmentation = Sequential(\n",
        "    [\n",
        "        preprocessing.RandomFlip(mode='horizontal', seed=1996), \n",
        "    ],\n",
        "    name=\"img_augmentation\",\n",
        ")"
      ]
    },
    {
      "cell_type": "code",
      "source": [
        "from tensorflow.keras.layers.experimental import preprocessing\n",
        "from tensorflow.keras.models import Sequential\n",
        "from tensorflow.keras import layers\n",
        "from tensorflow.keras.applications import ResNet50\n",
        "NUM_CLASSES = 2\n",
        "IMG_SIZE = 256"
      ],
      "metadata": {
        "id": "QHyzYu8DZjVt"
      },
      "execution_count": null,
      "outputs": []
    },
    {
      "cell_type": "code",
      "source": [
        "def create_model():\n",
        "  inputs_image = layers.Input(shape=(IMG_SIZE, IMG_SIZE, 3))\n",
        "  # inputs_image = img_augmentation(inputs_image)\n",
        "  resnet_model = ResNet50(include_top=False, input_tensor=inputs_image, weights=\"imagenet\")\n",
        "  resnet_model.trainable = True\n",
        "  x = layers.GlobalAveragePooling2D(name=\"avg_pool\")(resnet_model.output)\n",
        "  x = layers.BatchNormalization()(x)\n",
        "  outputs = layers.Dense(512)(x)\n",
        "  model_image = tf.keras.Model(inputs_image, outputs, name=\"model_image\")\n",
        "\n",
        "  input_lbp = layers.Input(shape=(256))\n",
        "  lbp_model = Sequential(\n",
        "      [\n",
        "      layers.Dense(512, activation=\"relu\"), \n",
        "      layers.BatchNormalization(),\n",
        "      layers.Dense(256), \n",
        "      ]\n",
        "  )\n",
        "  lbp_model(input_lbp)\n",
        "\n",
        "  combined = layers.concatenate([model_image.output, lbp_model.output])\n",
        "  # apply a FC layer and then a regression prediction on the\n",
        "  # combined outputs\n",
        "  z = layers.Dense(1024, activation=\"relu\")(combined)\n",
        "  z = layers.Dense(512, activation=\"relu\")(z)\n",
        "  top_dropout_rate = 0.05\n",
        "  z = layers.Dropout(top_dropout_rate, name=\"top_dropout\")(z)\n",
        "  z = layers.Dense(NUM_CLASSES, activation=\"softmax\", name=\"pred\")(z)\n",
        "\n",
        "  # our model will accept the inputs of the two branches and\n",
        "  # then output a single value\n",
        "  model = tf.keras.Model(inputs=[model_image.input, lbp_model.input], outputs=z)\n",
        "\n",
        "  optimizer = tf.keras.optimizers.Adam(learning_rate=1e-4)\n",
        "  model.compile(\n",
        "          optimizer=optimizer, loss=\"sparse_categorical_crossentropy\", metrics=['accuracy']\n",
        "      )\n",
        "  \n",
        "  return model"
      ],
      "metadata": {
        "id": "CmucPnitj88C"
      },
      "execution_count": null,
      "outputs": []
    },
    {
      "cell_type": "code",
      "source": [
        "with strategy.scope():\n",
        "  model = create_model()"
      ],
      "metadata": {
        "id": "VTnYHNx4iZIr",
        "colab": {
          "base_uri": "https://localhost:8080/"
        },
        "outputId": "2b96b3e2-28b8-408d-ef5a-0c6362ddf495"
      },
      "execution_count": null,
      "outputs": [
        {
          "output_type": "stream",
          "name": "stdout",
          "text": [
            "Downloading data from https://storage.googleapis.com/tensorflow/keras-applications/resnet/resnet50_weights_tf_dim_ordering_tf_kernels_notop.h5\n",
            "94773248/94765736 [==============================] - 1s 0us/step\n",
            "94781440/94765736 [==============================] - 1s 0us/step\n"
          ]
        }
      ]
    },
    {
      "cell_type": "code",
      "execution_count": null,
      "metadata": {
        "id": "f8kydOeZwWud"
      },
      "outputs": [],
      "source": [
        "checkpoint_filepath = \"gs://thesis_ngoanpv/result_fasd_lbp81\"\n",
        "model_checkpoint_callback = tf.keras.callbacks.ModelCheckpoint(\n",
        "    filepath=checkpoint_filepath,\n",
        "    save_weights_only=True,\n",
        "    monitor='val_accuracy',\n",
        "    save_best_only=True)"
      ]
    },
    {
      "cell_type": "code",
      "execution_count": null,
      "metadata": {
        "colab": {
          "base_uri": "https://localhost:8080/"
        },
        "id": "9L_7id7KZseb",
        "outputId": "f91b7b20-1cc7-4065-a082-b1e0b7087e06"
      },
      "outputs": [
        {
          "output_type": "stream",
          "name": "stdout",
          "text": [
            "Epoch 1/60\n",
            "88/88 [==============================] - 127s 737ms/step - loss: 0.0180 - accuracy: 0.9919 - val_loss: 0.2060 - val_accuracy: 0.9230\n",
            "Epoch 2/60\n",
            "88/88 [==============================] - 50s 571ms/step - loss: 9.4574e-04 - accuracy: 0.9996 - val_loss: 0.1850 - val_accuracy: 0.9532\n",
            "Epoch 3/60\n",
            "88/88 [==============================] - 51s 580ms/step - loss: 4.2881e-04 - accuracy: 0.9999 - val_loss: 0.1547 - val_accuracy: 0.9643\n",
            "Epoch 4/60\n",
            "88/88 [==============================] - 51s 577ms/step - loss: 4.2457e-04 - accuracy: 0.9999 - val_loss: 0.1098 - val_accuracy: 0.9707\n",
            "Epoch 5/60\n",
            "88/88 [==============================] - 46s 521ms/step - loss: 5.1619e-04 - accuracy: 0.9998 - val_loss: 0.1120 - val_accuracy: 0.9705\n",
            "Epoch 6/60\n",
            "88/88 [==============================] - 53s 602ms/step - loss: 2.1391e-04 - accuracy: 0.9999 - val_loss: 0.1239 - val_accuracy: 0.9744\n",
            "Epoch 7/60\n",
            "88/88 [==============================] - 46s 520ms/step - loss: 7.4387e-05 - accuracy: 1.0000 - val_loss: 0.1421 - val_accuracy: 0.9728\n",
            "Epoch 8/60\n",
            "88/88 [==============================] - 51s 577ms/step - loss: 4.1334e-05 - accuracy: 1.0000 - val_loss: 0.1021 - val_accuracy: 0.9793\n",
            "Epoch 9/60\n",
            "88/88 [==============================] - 46s 519ms/step - loss: 3.6558e-06 - accuracy: 1.0000 - val_loss: 0.1020 - val_accuracy: 0.9789\n",
            "Epoch 10/60\n",
            "88/88 [==============================] - 45s 518ms/step - loss: 8.9769e-06 - accuracy: 1.0000 - val_loss: 0.1108 - val_accuracy: 0.9770\n",
            "Epoch 11/60\n",
            "88/88 [==============================] - 45s 513ms/step - loss: 1.2929e-05 - accuracy: 1.0000 - val_loss: 0.1036 - val_accuracy: 0.9775\n",
            "Epoch 12/60\n",
            "88/88 [==============================] - 45s 519ms/step - loss: 1.8051e-06 - accuracy: 1.0000 - val_loss: 0.1019 - val_accuracy: 0.9782\n",
            "Epoch 13/60\n",
            "88/88 [==============================] - 45s 518ms/step - loss: 1.8071e-06 - accuracy: 1.0000 - val_loss: 0.1037 - val_accuracy: 0.9780\n",
            "Epoch 14/60\n",
            "88/88 [==============================] - 46s 519ms/step - loss: 1.0476e-06 - accuracy: 1.0000 - val_loss: 0.1061 - val_accuracy: 0.9775\n",
            "Epoch 15/60\n",
            "88/88 [==============================] - 45s 512ms/step - loss: 7.4130e-07 - accuracy: 1.0000 - val_loss: 0.1057 - val_accuracy: 0.9777\n",
            "Epoch 16/60\n",
            "88/88 [==============================] - 46s 519ms/step - loss: 5.8397e-07 - accuracy: 1.0000 - val_loss: 0.1055 - val_accuracy: 0.9777\n",
            "Epoch 17/60\n",
            "88/88 [==============================] - 45s 519ms/step - loss: 1.0778e-06 - accuracy: 1.0000 - val_loss: 0.1060 - val_accuracy: 0.9778\n",
            "Epoch 18/60\n",
            "88/88 [==============================] - 48s 548ms/step - loss: 7.7000e-07 - accuracy: 1.0000 - val_loss: 0.1061 - val_accuracy: 0.9779\n"
          ]
        }
      ],
      "source": [
        "early_stop = tf.keras.callbacks.EarlyStopping(monitor='val_accuracy', patience=10, restore_best_weights=True)\n",
        "history = model.fit(\n",
        "    get_training_dataset(), \n",
        "    validation_data = get_validation_dataset(),\n",
        "    steps_per_epoch=STEPS_PER_EPOCH,\n",
        "    epochs=60, \n",
        "    callbacks=[early_stop, model_checkpoint_callback]\n",
        ")"
      ]
    },
    {
      "cell_type": "code",
      "execution_count": null,
      "metadata": {
        "id": "_2ZWVkGEZBCp",
        "colab": {
          "base_uri": "https://localhost:8080/"
        },
        "outputId": "fac10cec-3758-4f54-b6e7-6db1a14831c3"
      },
      "outputs": [
        {
          "output_type": "execute_result",
          "data": {
            "text/plain": [
              "<tensorflow.python.training.tracking.util.CheckpointLoadStatus at 0x7f62ab7b0290>"
            ]
          },
          "metadata": {},
          "execution_count": 29
        }
      ],
      "source": [
        "model.load_weights(checkpoint_filepath)"
      ]
    },
    {
      "cell_type": "code",
      "source": [
        "val_dataset = get_validation_dataset()"
      ],
      "metadata": {
        "id": "es3dD2HYE8F5"
      },
      "execution_count": null,
      "outputs": []
    },
    {
      "cell_type": "code",
      "source": [
        "model.evaluate(val_dataset)"
      ],
      "metadata": {
        "colab": {
          "base_uri": "https://localhost:8080/"
        },
        "id": "8uJZNcO5FAM8",
        "outputId": "850cf264-7e93-4c98-becc-a470be2ec3cc"
      },
      "execution_count": null,
      "outputs": [
        {
          "output_type": "stream",
          "name": "stdout",
          "text": [
            "129/129 [==============================] - 19s 130ms/step - loss: 0.1021 - accuracy: 0.9794\n"
          ]
        },
        {
          "output_type": "execute_result",
          "data": {
            "text/plain": [
              "[0.10207531601190567, 0.9794497489929199]"
            ]
          },
          "metadata": {},
          "execution_count": 31
        }
      ]
    },
    {
      "cell_type": "code",
      "source": [
        "model_result = model.predict(val_dataset)"
      ],
      "metadata": {
        "id": "CYBn5cHQ6iAA"
      },
      "execution_count": null,
      "outputs": []
    },
    {
      "cell_type": "code",
      "execution_count": null,
      "metadata": {
        "id": "cRohsLh-Zo2L",
        "colab": {
          "base_uri": "https://localhost:8080/"
        },
        "outputId": "623ce6c3-6429-4e02-e67e-b039ab0b19cd"
      },
      "outputs": [
        {
          "output_type": "stream",
          "name": "stdout",
          "text": [
            "Mounted at /content/drive\n"
          ]
        }
      ],
      "source": [
        "from google.colab import drive\n",
        "drive.mount('/content/drive')"
      ]
    },
    {
      "cell_type": "code",
      "execution_count": null,
      "metadata": {
        "id": "ntK8znH5aNpL"
      },
      "outputs": [],
      "source": [
        "model.save_weights('/content/drive/MyDrive/thesis/resnet50LBP_81/fasd_acc09794_dropout005.h5')"
      ]
    },
    {
      "cell_type": "code",
      "source": [
        "model_result[:, 1]"
      ],
      "metadata": {
        "colab": {
          "base_uri": "https://localhost:8080/"
        },
        "id": "z3fYsHeK8lN1",
        "outputId": "a1fd5e58-7e32-4161-fb64-b18da9993f05"
      },
      "execution_count": null,
      "outputs": [
        {
          "output_type": "execute_result",
          "data": {
            "text/plain": [
              "array([1.8149673e-05, 3.4290310e-03, 3.3690140e-01, ..., 8.2781672e-01,\n",
              "       9.9961889e-01, 7.8431576e-01], dtype=float32)"
            ]
          },
          "metadata": {},
          "execution_count": 406
        }
      ]
    },
    {
      "cell_type": "code",
      "source": [
        "spoof_result = model_result[:, 1]"
      ],
      "metadata": {
        "id": "1aXXXa-v8gNm"
      },
      "execution_count": null,
      "outputs": []
    },
    {
      "cell_type": "code",
      "source": [
        "spoof_result.shape"
      ],
      "metadata": {
        "colab": {
          "base_uri": "https://localhost:8080/"
        },
        "id": "7r9XBdIK-U-6",
        "outputId": "6ba43280-d062-4895-b1d9-1c81bc94f4bf"
      },
      "execution_count": null,
      "outputs": [
        {
          "output_type": "execute_result",
          "data": {
            "text/plain": [
              "(65790,)"
            ]
          },
          "metadata": {},
          "execution_count": 34
        }
      ]
    },
    {
      "cell_type": "code",
      "source": [
        "import pandas as pd\n",
        "df = pd.read_csv('/content/meta_fasd_test (1).csv')"
      ],
      "metadata": {
        "id": "AstoN6loz9rF"
      },
      "execution_count": null,
      "outputs": []
    },
    {
      "cell_type": "code",
      "source": [
        "df.label"
      ],
      "metadata": {
        "colab": {
          "base_uri": "https://localhost:8080/"
        },
        "id": "dUnzglg60DtI",
        "outputId": "e6422044-8eb5-4d6b-bdbe-8e0eefb9b0b6"
      },
      "execution_count": null,
      "outputs": [
        {
          "output_type": "execute_result",
          "data": {
            "text/plain": [
              "0        1\n",
              "1        1\n",
              "2        1\n",
              "3        1\n",
              "4        1\n",
              "        ..\n",
              "65785    0\n",
              "65786    0\n",
              "65787    0\n",
              "65788    0\n",
              "65789    0\n",
              "Name: label, Length: 65790, dtype: int64"
            ]
          },
          "metadata": {},
          "execution_count": 63
        }
      ]
    },
    {
      "cell_type": "code",
      "source": [
        "label_val_list[4]"
      ],
      "metadata": {
        "id": "WE1v0aZMyAoJ"
      },
      "execution_count": null,
      "outputs": []
    },
    {
      "cell_type": "code",
      "source": [
        "label_val_arr = np.asarray(label_val_list)"
      ],
      "metadata": {
        "id": "eA55RnS6-TmW"
      },
      "execution_count": null,
      "outputs": []
    },
    {
      "cell_type": "code",
      "source": [
        "import numpy as np\n",
        "import sys\n",
        "import copy\n",
        "from sklearn.metrics import roc_curve, auc\n",
        "from scipy import interp\n",
        "\n",
        "def get_err_threhold(fpr, tpr, threshold):\n",
        "    RightIndex=(tpr+(1-fpr)-1)\n",
        "    right_index = np.argmax(RightIndex)\n",
        "    best_th = threshold[right_index]\n",
        "    err = fpr[right_index]\n",
        "    differ_tpr_fpr_1=tpr+fpr-1.0\n",
        "    right_index = np.argmin(np.abs(differ_tpr_fpr_1))\n",
        "    best_th = threshold[right_index]\n",
        "    err = fpr[right_index]\n",
        "\n",
        "    return err, best_th\n",
        "def performances(test_scores, test_labels):\n",
        "    # print('label',test_labels)\n",
        "    # print('score',test_scores)\n",
        "\n",
        "    test_labels_bk = copy.deepcopy(test_labels)\n",
        "    test_scores_bk = copy.deepcopy(test_scores)\n",
        "    test_labels_bk[test_labels_bk < 0] = 0\n",
        "\n",
        "    fpr_test, tpr_test, threshold_test = roc_curve(test_labels_bk, test_scores_bk, pos_label=1)\n",
        "    err, best_th = get_err_threhold(fpr_test, tpr_test, threshold_test)\n",
        "    precision_th1 = 0.005\n",
        "    RECALL1 = interp(precision_th1, fpr_test, tpr_test)\n",
        "\n",
        "    precision_th2 = 0.01\n",
        "    RECALL2 = interp(precision_th2, fpr_test, tpr_test)\n",
        "\n",
        "    TP = 0\n",
        "    FP = 0\n",
        "    TN = 0\n",
        "    FN = 0\n",
        "\n",
        "    for i in range(test_labels.shape[0]):\n",
        "        if test_labels[i] == 0:\n",
        "            if test_scores[i] <= best_th:\n",
        "                TP += 1\n",
        "            else:\n",
        "                FN += 1\n",
        "        else:\n",
        "            if test_scores[i] > best_th:\n",
        "                TN += 1\n",
        "            else:\n",
        "                FP += 1\n",
        "    print(f'TP = {TP}, FP = {FP}, TN = {TN}, FN = {FN}')\n",
        "\n",
        "    FAR = FP / (FP + TP + 0.000001)  ### False Acceptance Rate\n",
        "    FRR = FN / (TN + FN + 0.000001)  ### False Rejection Rate\n",
        "    \n",
        "    HTER = (FAR + FRR) / 2  ### Half Total Error Rate\n",
        "    APCER = FP / (TN + FP + 0.000001)  ### Attack Presentation Classification Error Rate\n",
        "    TNR = 1 - APCER  ### True Negative Rate\n",
        "    NPCER = FN / (FN + TP + 0.000001)  ### Normal Presentation Classification Error Rate\n",
        "    TPR = 1 - NPCER  ### True Positive Rate\n",
        "    ACER = (APCER + NPCER) / 2  ### Average Classification Error Rate\n",
        "    ACC = (TP + TN) / (0.000001 + TP + FP + FN + TN)\n",
        "\n",
        "    return np.float32(FAR), np.float32(FRR), np.float32(HTER), np.float32(APCER), \\\n",
        "           np.float32(TNR), np.float32(NPCER), np.float32(TPR), np.float32(ACER), np.float32(ACC), np.float32(best_th)"
      ],
      "metadata": {
        "id": "7lMIuSgb8pTP"
      },
      "execution_count": null,
      "outputs": []
    },
    {
      "cell_type": "code",
      "source": [
        "performances(spoof_result, label_val_arr)"
      ],
      "metadata": {
        "colab": {
          "base_uri": "https://localhost:8080/"
        },
        "id": "DgCrR6LX82eN",
        "outputId": "0984b04f-7755-4cdc-f013-64e96b0085d8"
      },
      "execution_count": null,
      "outputs": [
        {
          "output_type": "stream",
          "name": "stdout",
          "text": [
            "TP = 15495, FP = 1306, TN = 48574, FN = 415\n"
          ]
        },
        {
          "output_type": "stream",
          "name": "stderr",
          "text": [
            "/usr/local/lib/python3.7/dist-packages/ipykernel_launcher.py:29: DeprecationWarning: scipy.interp is deprecated and will be removed in SciPy 2.0.0, use numpy.interp instead\n",
            "/usr/local/lib/python3.7/dist-packages/ipykernel_launcher.py:32: DeprecationWarning: scipy.interp is deprecated and will be removed in SciPy 2.0.0, use numpy.interp instead\n"
          ]
        },
        {
          "output_type": "execute_result",
          "data": {
            "text/plain": [
              "(0.077733465,\n",
              " 0.00847129,\n",
              " 0.04310238,\n",
              " 0.02618284,\n",
              " 0.97381717,\n",
              " 0.026084224,\n",
              " 0.97391576,\n",
              " 0.026133532,\n",
              " 0.973841,\n",
              " 0.977959)"
            ]
          },
          "metadata": {},
          "execution_count": 58
        }
      ]
    },
    {
      "cell_type": "code",
      "source": [
        ""
      ],
      "metadata": {
        "id": "yg_jz0Z0zlVZ"
      },
      "execution_count": null,
      "outputs": []
    }
  ],
  "metadata": {
    "accelerator": "TPU",
    "colab": {
      "collapsed_sections": [],
      "machine_shape": "hm",
      "name": "train_res50_lbp81.ipynb",
      "provenance": []
    },
    "kernelspec": {
      "display_name": "Python 3",
      "language": "python",
      "name": "python3"
    },
    "language_info": {
      "codemirror_mode": {
        "name": "ipython",
        "version": 3
      },
      "file_extension": ".py",
      "mimetype": "text/x-python",
      "name": "python",
      "nbconvert_exporter": "python",
      "pygments_lexer": "ipython3",
      "version": "3.6.6"
    }
  },
  "nbformat": 4,
  "nbformat_minor": 0
}